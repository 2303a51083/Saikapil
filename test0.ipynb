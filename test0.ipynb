{
  "nbformat": 4,
  "nbformat_minor": 0,
  "metadata": {
    "colab": {
      "provenance": [],
      "authorship_tag": "ABX9TyMk4Mk8YynIUShhP6lWnJ0G",
      "include_colab_link": true
    },
    "kernelspec": {
      "name": "python3",
      "display_name": "Python 3"
    },
    "language_info": {
      "name": "python"
    }
  },
  "cells": [
    {
      "cell_type": "markdown",
      "metadata": {
        "id": "view-in-github",
        "colab_type": "text"
      },
      "source": [
        "<a href=\"https://colab.research.google.com/github/2303a51083/Saikapil/blob/main/test0.ipynb\" target=\"_parent\"><img src=\"https://colab.research.google.com/assets/colab-badge.svg\" alt=\"Open In Colab\"/></a>"
      ]
    },
    {
      "cell_type": "code",
      "execution_count": null,
      "metadata": {
        "colab": {
          "base_uri": "https://localhost:8080/"
        },
        "id": "LdTNDkQF5eko",
        "outputId": "c1c62528-87d1-4766-a1ad-d80ce7c84528"
      },
      "outputs": [
        {
          "output_type": "stream",
          "name": "stdout",
          "text": [
            "Mounted at /content/drive\n",
            "Error loading TSV file: [Errno 2] No such file or directory: '/content/drive/MyDrive/datasets/data.tsv'\n",
            "Error loading CSV file: [Errno 2] No such file or directory: '/content/drive/MyDrive/datasets/data.csv'\n",
            "Error loading Excel file: [Errno 2] No such file or directory: '/content/drive/MyDrive/datasets/data.xlsx'\n",
            "\n",
            "Text Data from URL:\n",
            "<!doctype html>\n",
            "<html>\n",
            "<head>\n",
            "    <title>Example Domain</title>\n",
            "\n",
            "    <meta charset=\"utf-8\" />\n",
            "    <meta http-equiv=\"Content-type\" content=\"text/html; charset=utf-8\" />\n",
            "    <meta name=\"viewport\" content=\"width=device-width, initial-scale=1\" />\n",
            "    <style type=\"text/css\">\n",
            "    body {\n",
            "        background-color: #f0f0f2;\n",
            "        margin: 0;\n",
            "        padding: 0;\n",
            "        font-family: -apple-system, system-ui, BlinkMacSystemFont, \"Segoe UI\", \"Open Sans\", \"Helvetica Neue\", Helvetica, Arial, sans-serif;\n",
            "    \n"
          ]
        }
      ],
      "source": [
        "from google.colab import drive\n",
        "drive.mount('/content/drive')\n",
        "\n",
        "\n",
        "import pandas as pd\n",
        "import requests\n",
        "\n",
        "\n",
        "tsv_file_path = '/content/drive/MyDrive/datasets/data.tsv'\n",
        "try:\n",
        "    tsv_data = pd.read_csv(tsv_file_path, sep='\\t')\n",
        "    print(\"TSV Data:\")\n",
        "    print(tsv_data.head())\n",
        "except Exception as e:\n",
        "    print(f\"Error loading TSV file: {e}\")\n",
        "\n",
        "\n",
        "csv_file_path = '/content/drive/MyDrive/datasets/data.csv'\n",
        "try:\n",
        "    csv_data = pd.read_csv(csv_file_path)\n",
        "    print(\"\\nCSV Data:\")\n",
        "    print(csv_data.head())\n",
        "except Exception as e:\n",
        "    print(f\"Error loading CSV file: {e}\")\n",
        "\n",
        "\n",
        "excel_file_path = '/content/drive/MyDrive/datasets/data.xlsx'\n",
        "try:\n",
        "    excel_data = pd.read_excel(excel_file_path)\n",
        "    print(\"\\nExcel Data:\")\n",
        "    print(excel_data.head())\n",
        "except Exception as e:\n",
        "    print(f\"Error loading Excel file: {e}\")\n",
        "\n",
        "\n",
        "url = 'https://example.com/data.txt'\n",
        "try:\n",
        "    response = requests.get(url)\n",
        "    text_data = response.text\n",
        "    print(\"\\nText Data from URL:\")\n",
        "    print(text_data[:500])\n",
        "except Exception as e:\n",
        "    print(f\"Error fetching text data from URL: {e}\")"
      ]
    },
    {
      "cell_type": "code",
      "source": [],
      "metadata": {
        "id": "1A7gdShRxpP4"
      },
      "execution_count": null,
      "outputs": []
    },
    {
      "cell_type": "code",
      "source": [],
      "metadata": {
        "id": "V0IwNAOtvt3-"
      },
      "execution_count": null,
      "outputs": []
    }
  ]
}